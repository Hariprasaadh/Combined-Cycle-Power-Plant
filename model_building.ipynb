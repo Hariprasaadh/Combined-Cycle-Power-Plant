{
 "cells": [
  {
   "cell_type": "code",
   "execution_count": 1,
   "id": "7607d6a0-a0cd-4890-9e62-ed4212209af9",
   "metadata": {},
   "outputs": [],
   "source": [
    "#Import necessary libraries\n",
    "import numpy as np\n",
    "import pandas as pd\n",
    "import tensorflow as tf\n",
    "import matplotlib.pyplot as plt\n",
    "import seaborn as sns"
   ]
  },
  {
   "cell_type": "code",
   "execution_count": 3,
   "id": "894c7e00-992a-474a-8a30-8e5fb3139c28",
   "metadata": {},
   "outputs": [],
   "source": [
    "#Import the dataset\n",
    "dataset=pd.read_excel(\"Folds5x2_pp.xlsx\")"
   ]
  },
  {
   "cell_type": "code",
   "execution_count": 5,
   "id": "43c68e9b-a1ed-4ad7-bb35-1d6c42f0f34a",
   "metadata": {},
   "outputs": [
    {
     "data": {
      "text/plain": [
       "<Axes: >"
      ]
     },
     "execution_count": 5,
     "metadata": {},
     "output_type": "execute_result"
    },
    {
     "data": {
      "image/png": "[encoded data removed]",
      "text/plain": [
       "<Figure size 640x480 with 2 Axes>"
      ]
     },
     "metadata": {},
     "output_type": "display_data"
    }
   ],
   "source": [
    "#Plot the correlation matrix\n",
    "df_corr=dataset.corr()\n",
    "sns.heatmap(df_corr,cmap='coolwarm')"
   ]
  },
  {
   "cell_type": "code",
   "execution_count": 9,
   "id": "abd10eee-87a1-4332-8b4f-2a27f0e9d616",
   "metadata": {},
   "outputs": [
    {
     "name": "stdout",
     "output_type": "stream",
     "text": [
      "<class 'pandas.core.frame.DataFrame'>\n",
      "RangeIndex: 9568 entries, 0 to 9567\n",
      "Data columns (total 5 columns):\n",
      " #   Column  Non-Null Count  Dtype  \n",
      "---  ------  --------------  -----  \n",
      " 0   AT      9568 non-null   float64\n",
      " 1   V       9568 non-null   float64\n",
      " 2   AP      9568 non-null   float64\n",
      " 3   RH      9568 non-null   float64\n",
      " 4   PE      9568 non-null   float64\n",
      "dtypes: float64(5)\n",
      "memory usage: 373.9 KB\n"
     ]
    }
   ],
   "source": [
    "dataset.info()"
   ]
  },
  {
   "cell_type": "code",
   "execution_count": 10,
   "id": "957b849d-a1a9-4891-a850-1b2708a1968b",
   "metadata": {},
   "outputs": [
    {
     "data": {
      "text/plain": [
       "AT    0\n",
       "V     0\n",
       "AP    0\n",
       "RH    0\n",
       "PE    0\n",
       "dtype: int64"
      ]
     },
     "execution_count": 10,
     "metadata": {},
     "output_type": "execute_result"
    }
   ],
   "source": [
    "dataset.isnull().sum()"
   ]
  },
  {
   "cell_type": "code",
   "execution_count": 6,
   "id": "dfa7c848-4470-4f9a-a308-c8c2db929f88",
   "metadata": {},
   "outputs": [],
   "source": [
    "X=dataset.iloc[:,:-1].values\n",
    "y=dataset.iloc[:,-1].values"
   ]
  },
  {
   "cell_type": "code",
   "execution_count": 7,
   "id": "9d3f716b-5cda-43c7-b60c-15b51a2e74cc",
   "metadata": {},
   "outputs": [
    {
     "name": "stdout",
     "output_type": "stream",
     "text": [
      "[[  14.96   41.76 1024.07   73.17]\n",
      " [  25.18   62.96 1020.04   59.08]\n",
      " [   5.11   39.4  1012.16   92.14]\n",
      " ...\n",
      " [  31.32   74.33 1012.92   36.48]\n",
      " [  24.48   69.45 1013.86   62.39]\n",
      " [  21.6    62.52 1017.23   67.87]]\n"
     ]
    }
   ],
   "source": [
    "print(X)"
   ]
  },
  {
   "cell_type": "code",
   "execution_count": 8,
   "id": "a87fa76d-4d7b-4327-8152-0ffc7a11cc52",
   "metadata": {},
   "outputs": [
    {
     "name": "stdout",
     "output_type": "stream",
     "text": [
      "[463.26 444.37 488.56 ... 429.57 435.74 453.28]\n"
     ]
    }
   ],
   "source": [
    "print(y)"
   ]
  },
  {
   "cell_type": "code",
   "execution_count": 11,
   "id": "491037cc-930e-441f-a254-2786f6074a6a",
   "metadata": {},
   "outputs": [],
   "source": [
    "#Splitting the dataset\n",
    "from sklearn.model_selection import train_test_split\n",
    "X_train,X_test,y_train,y_test=train_test_split(X,y,test_size=0.2,random_state=42)"
   ]
  },
  {
   "cell_type": "code",
   "execution_count": 12,
   "id": "b2be26ef-37a2-48ad-9922-3175d7571e23",
   "metadata": {},
   "outputs": [],
   "source": [
    "#Feature Scaling\n",
    "from sklearn.preprocessing import StandardScaler\n",
    "sc=StandardScaler()\n",
    "X_train=sc.fit_transform(X_train)\n",
    "X_test=sc.transform(X_test)"
   ]
  },
  {
   "cell_type": "code",
   "execution_count": 17,
   "id": "efa4571d-945c-410a-827e-eab7193f58cc",
   "metadata": {},
   "outputs": [],
   "source": [
    "#Building the ANN\n",
    "from tensorflow.keras.models import Sequential\n",
    "from tensorflow.keras.layers import Dense\n",
    "ann=Sequential()\n",
    "ann.add(Dense(units=6,activation='relu'))      \n",
    "ann.add(Dense(units=6,activation='relu'))\n",
    "ann.add(Dense(units=1))"
   ]
  },
  {
   "cell_type": "code",
   "execution_count": 19,
   "id": "4a59a1d0-9848-40a7-95e6-0a1635290616",
   "metadata": {},
   "outputs": [],
   "source": [
    "#Compile the ANN\n",
    "ann.compile(optimizer='adam',loss='mean_squared_error')"
   ]
  },
  {
   "cell_type": "code",
   "execution_count": 20,
   "id": "b15197bf-8008-41c6-b03a-c2a537c88abf",
   "metadata": {},
   "outputs": [
    {
     "name": "stdout",
     "output_type": "stream",
     "text": [
      "Epoch 1/100\n",
      "240/240 [==============================] - 0s 768us/step - loss: 206544.6406\n",
      "Epoch 2/100\n",
      "240/240 [==============================] - 0s 749us/step - loss: 203696.8750\n",
      "Epoch 3/100\n",
      "240/240 [==============================] - 0s 739us/step - loss: 194574.0625\n",
      "Epoch 4/100\n",
      "240/240 [==============================] - 0s 744us/step - loss: 176225.2500\n",
      "Epoch 5/100\n",
      "240/240 [==============================] - 0s 755us/step - loss: 150063.6250\n",
      "Epoch 6/100\n",
      "240/240 [==============================] - 0s 745us/step - loss: 125029.0469\n",
      "Epoch 7/100\n",
      "240/240 [==============================] - 0s 733us/step - loss: 108607.9219\n",
      "Epoch 8/100\n",
      "240/240 [==============================] - 0s 763us/step - loss: 99280.1641\n",
      "Epoch 9/100\n",
      "240/240 [==============================] - 0s 742us/step - loss: 90715.5547\n",
      "Epoch 10/100\n",
      "240/240 [==============================] - 0s 722us/step - loss: 79122.6875\n",
      "Epoch 11/100\n",
      "240/240 [==============================] - 0s 725us/step - loss: 64217.9570\n",
      "Epoch 12/100\n",
      "240/240 [==============================] - 0s 722us/step - loss: 47066.1719\n",
      "Epoch 13/100\n",
      "240/240 [==============================] - 0s 719us/step - loss: 29239.5469\n",
      "Epoch 14/100\n",
      "240/240 [==============================] - 0s 765us/step - loss: 13705.5215\n",
      "Epoch 15/100\n",
      "240/240 [==============================] - 0s 765us/step - loss: 4285.8086\n",
      "Epoch 16/100\n",
      "240/240 [==============================] - 0s 722us/step - loss: 1252.9114\n",
      "Epoch 17/100\n",
      "240/240 [==============================] - 0s 737us/step - loss: 736.8015\n",
      "Epoch 18/100\n",
      "240/240 [==============================] - 0s 729us/step - loss: 616.9435\n",
      "Epoch 19/100\n",
      "240/240 [==============================] - 0s 733us/step - loss: 545.3688\n",
      "Epoch 20/100\n",
      "240/240 [==============================] - 0s 743us/step - loss: 484.1027\n",
      "Epoch 21/100\n",
      "240/240 [==============================] - 0s 735us/step - loss: 428.0694\n",
      "Epoch 22/100\n",
      "240/240 [==============================] - 0s 728us/step - loss: 376.7146\n",
      "Epoch 23/100\n",
      "240/240 [==============================] - 0s 702us/step - loss: 329.6632\n",
      "Epoch 24/100\n",
      "240/240 [==============================] - 0s 711us/step - loss: 286.0206\n",
      "Epoch 25/100\n",
      "240/240 [==============================] - 0s 732us/step - loss: 246.5323\n",
      "Epoch 26/100\n",
      "240/240 [==============================] - 0s 750us/step - loss: 211.0680\n",
      "Epoch 27/100\n",
      "240/240 [==============================] - 0s 803us/step - loss: 179.7629\n",
      "Epoch 28/100\n",
      "240/240 [==============================] - 0s 740us/step - loss: 152.0717\n",
      "Epoch 29/100\n",
      "240/240 [==============================] - 0s 722us/step - loss: 127.8765\n",
      "Epoch 30/100\n",
      "240/240 [==============================] - 0s 731us/step - loss: 106.8043\n",
      "Epoch 31/100\n",
      "240/240 [==============================] - 0s 736us/step - loss: 88.5248\n",
      "Epoch 32/100\n",
      "240/240 [==============================] - 0s 725us/step - loss: 73.4558\n",
      "Epoch 33/100\n",
      "240/240 [==============================] - 0s 725us/step - loss: 61.2007\n",
      "Epoch 34/100\n",
      "240/240 [==============================] - 0s 724us/step - loss: 51.4346\n",
      "Epoch 35/100\n",
      "240/240 [==============================] - 0s 750us/step - loss: 43.7451\n",
      "Epoch 36/100\n",
      "240/240 [==============================] - 0s 727us/step - loss: 37.8139\n",
      "Epoch 37/100\n",
      "240/240 [==============================] - 0s 731us/step - loss: 33.3297\n",
      "Epoch 38/100\n",
      "240/240 [==============================] - 0s 729us/step - loss: 29.9242\n",
      "Epoch 39/100\n",
      "240/240 [==============================] - 0s 727us/step - loss: 27.5535\n",
      "Epoch 40/100\n",
      "240/240 [==============================] - 0s 727us/step - loss: 25.7533\n",
      "Epoch 41/100\n",
      "240/240 [==============================] - 0s 725us/step - loss: 24.4208\n",
      "Epoch 42/100\n",
      "240/240 [==============================] - 0s 726us/step - loss: 23.4989\n",
      "Epoch 43/100\n",
      "240/240 [==============================] - 0s 726us/step - loss: 22.8851\n",
      "Epoch 44/100\n",
      "240/240 [==============================] - 0s 729us/step - loss: 22.4489\n",
      "Epoch 45/100\n",
      "240/240 [==============================] - 0s 724us/step - loss: 22.1850\n",
      "Epoch 46/100\n",
      "240/240 [==============================] - 0s 735us/step - loss: 21.9754\n",
      "Epoch 47/100\n",
      "240/240 [==============================] - 0s 722us/step - loss: 21.8198\n",
      "Epoch 48/100\n",
      "240/240 [==============================] - 0s 734us/step - loss: 21.5846\n",
      "Epoch 49/100\n",
      "240/240 [==============================] - 0s 729us/step - loss: 21.5600\n",
      "Epoch 50/100\n",
      "240/240 [==============================] - 0s 727us/step - loss: 21.3581\n",
      "Epoch 51/100\n",
      "240/240 [==============================] - 0s 730us/step - loss: 21.4026\n",
      "Epoch 52/100\n",
      "240/240 [==============================] - 0s 730us/step - loss: 21.3524\n",
      "Epoch 53/100\n",
      "240/240 [==============================] - 0s 728us/step - loss: 21.3244\n",
      "Epoch 54/100\n",
      "240/240 [==============================] - 0s 725us/step - loss: 21.3610\n",
      "Epoch 55/100\n",
      "240/240 [==============================] - 0s 725us/step - loss: 21.2531\n",
      "Epoch 56/100\n",
      "240/240 [==============================] - 0s 716us/step - loss: 21.4542\n",
      "Epoch 57/100\n",
      "240/240 [==============================] - 0s 729us/step - loss: 21.3351\n",
      "Epoch 58/100\n",
      "240/240 [==============================] - 0s 715us/step - loss: 21.2966\n",
      "Epoch 59/100\n",
      "240/240 [==============================] - 0s 753us/step - loss: 21.2120\n",
      "Epoch 60/100\n",
      "240/240 [==============================] - 0s 723us/step - loss: 21.2176\n",
      "Epoch 61/100\n",
      "240/240 [==============================] - 0s 724us/step - loss: 21.1882\n",
      "Epoch 62/100\n",
      "240/240 [==============================] - 0s 757us/step - loss: 21.2614\n",
      "Epoch 63/100\n",
      "240/240 [==============================] - 0s 783us/step - loss: 21.1114\n",
      "Epoch 64/100\n",
      "240/240 [==============================] - 0s 727us/step - loss: 21.1791\n",
      "Epoch 65/100\n",
      "240/240 [==============================] - 0s 723us/step - loss: 21.2436\n",
      "Epoch 66/100\n",
      "240/240 [==============================] - 0s 728us/step - loss: 21.1973\n",
      "Epoch 67/100\n",
      "240/240 [==============================] - 0s 720us/step - loss: 21.2012\n",
      "Epoch 68/100\n",
      "240/240 [==============================] - 0s 785us/step - loss: 21.1444\n",
      "Epoch 69/100\n",
      "240/240 [==============================] - 0s 1ms/step - loss: 21.1541\n",
      "Epoch 70/100\n",
      "240/240 [==============================] - 0s 1ms/step - loss: 21.2436\n",
      "Epoch 71/100\n",
      "240/240 [==============================] - 0s 1ms/step - loss: 21.1447\n",
      "Epoch 72/100\n",
      "240/240 [==============================] - 0s 1ms/step - loss: 21.2061\n",
      "Epoch 73/100\n",
      "240/240 [==============================] - 0s 2ms/step - loss: 21.1650\n",
      "Epoch 74/100\n",
      "240/240 [==============================] - 0s 2ms/step - loss: 21.0994\n",
      "Epoch 75/100\n",
      "240/240 [==============================] - 0s 1ms/step - loss: 21.1696\n",
      "Epoch 76/100\n",
      "240/240 [==============================] - 0s 1ms/step - loss: 21.1719\n",
      "Epoch 77/100\n",
      "240/240 [==============================] - 0s 1ms/step - loss: 21.1756\n",
      "Epoch 78/100\n",
      "240/240 [==============================] - 0s 1ms/step - loss: 21.2035\n",
      "Epoch 79/100\n",
      "240/240 [==============================] - 0s 1ms/step - loss: 21.1449\n",
      "Epoch 80/100\n",
      "240/240 [==============================] - 0s 1ms/step - loss: 21.1213\n",
      "Epoch 81/100\n",
      "240/240 [==============================] - 0s 1ms/step - loss: 21.1823\n",
      "Epoch 82/100\n",
      "240/240 [==============================] - 0s 1ms/step - loss: 21.0898\n",
      "Epoch 83/100\n",
      "240/240 [==============================] - 0s 1ms/step - loss: 21.3959\n",
      "Epoch 84/100\n",
      "240/240 [==============================] - 0s 1ms/step - loss: 21.2428\n",
      "Epoch 85/100\n",
      "240/240 [==============================] - 0s 2ms/step - loss: 21.1616\n",
      "Epoch 86/100\n",
      "240/240 [==============================] - 0s 1ms/step - loss: 21.2174\n",
      "Epoch 87/100\n",
      "240/240 [==============================] - 0s 1ms/step - loss: 21.2628\n",
      "Epoch 88/100\n",
      "240/240 [==============================] - 0s 1ms/step - loss: 21.1618\n",
      "Epoch 89/100\n",
      "240/240 [==============================] - 0s 1ms/step - loss: 21.1532\n",
      "Epoch 90/100\n",
      "240/240 [==============================] - 0s 1ms/step - loss: 21.1840\n",
      "Epoch 91/100\n",
      "240/240 [==============================] - 0s 1ms/step - loss: 21.1067\n",
      "Epoch 92/100\n",
      "240/240 [==============================] - 0s 2ms/step - loss: 21.1901\n",
      "Epoch 93/100\n",
      "240/240 [==============================] - 0s 2ms/step - loss: 21.1202\n",
      "Epoch 94/100\n",
      "240/240 [==============================] - 0s 2ms/step - loss: 21.2042\n",
      "Epoch 95/100\n",
      "240/240 [==============================] - 0s 1ms/step - loss: 21.1608\n",
      "Epoch 96/100\n",
      "240/240 [==============================] - 0s 1ms/step - loss: 21.1122\n",
      "Epoch 97/100\n",
      "240/240 [==============================] - 0s 1ms/step - loss: 21.1768\n",
      "Epoch 98/100\n",
      "240/240 [==============================] - 0s 1ms/step - loss: 21.2173\n",
      "Epoch 99/100\n",
      "240/240 [==============================] - 0s 1ms/step - loss: 21.2083\n",
      "Epoch 100/100\n",
      "240/240 [==============================] - 0s 1ms/step - loss: 21.1712\n"
     ]
    },
    {
     "data": {
      "text/plain": [
       "<keras.callbacks.History at 0x25b2bb66f80>"
      ]
     },
     "execution_count": 20,
     "metadata": {},
     "output_type": "execute_result"
    }
   ],
   "source": [
    "#Train the ANN model on the training set\n",
    "ann.fit(X_train,y_train,batch_size=32,epochs=100)"
   ]
  },
  {
   "cell_type": "code",
   "execution_count": 22,
   "id": "a0b76ccd-22f5-4e55-8740-d142aee80622",
   "metadata": {},
   "outputs": [
    {
     "name": "stdout",
     "output_type": "stream",
     "text": [
      "60/60 [==============================] - 0s 679us/step - loss: 20.4513\n"
     ]
    }
   ],
   "source": [
    "#Test Set Loss\n",
    "loss = ann.evaluate(X_test, y_test)"
   ]
  },
  {
   "cell_type": "code",
   "execution_count": 23,
   "id": "01c30f8a-b891-4f84-aaa6-b245c802bcfd",
   "metadata": {},
   "outputs": [
    {
     "name": "stdout",
     "output_type": "stream",
     "text": [
      "60/60 [==============================] - 0s 613us/step\n",
      "[[455.65 455.27]\n",
      " [438.37 436.31]\n",
      " [433.79 440.68]\n",
      " ...\n",
      " [482.54 479.53]\n",
      " [435.   435.76]\n",
      " [458.54 457.1 ]]\n"
     ]
    }
   ],
   "source": [
    "#Predict the test set results\n",
    "y_pred=ann.predict(X_test)\n",
    "np.set_printoptions(precision=2)\n",
    "print(np.concatenate((y_pred.reshape(len(y_pred),1),y_test.reshape(len(y_test),1)),1))"
   ]
  },
  {
   "cell_type": "code",
   "execution_count": null,
   "id": "e3913581-a543-46ce-8f1e-83f58e2e50cc",
   "metadata": {},
   "outputs": [],
   "source": []
  }
 ],
 "metadata": {
  "kernelspec": {
   "display_name": "Python 3 (ipykernel)",
   "language": "python",
   "name": "python3"
  },
  "language_info": {
   "codemirror_mode": {
    "name": "ipython",
    "version": 3
   },
   "file_extension": ".py",
   "mimetype": "text/x-python",
   "name": "python",
   "nbconvert_exporter": "python",
   "pygments_lexer": "ipython3",
   "version": "3.10.13"
  }
 },
 "nbformat": 4,
 "nbformat_minor": 5
}
